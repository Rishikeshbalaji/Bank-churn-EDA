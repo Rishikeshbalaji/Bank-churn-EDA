{
  "cells": [
    {
      "cell_type": "markdown",
      "id": "842f0615-dff2-417e-b89f-c22f29e513a4",
      "metadata": {
        "id": "842f0615-dff2-417e-b89f-c22f29e513a4"
      },
      "source": [
        "# `ALY6010: Probability Theory and Introductory Statistics`\n",
        "#### Prepared by:\n",
        "####            KrishnaPrasad Marisamy (NEU- 002620220)\n",
        "####            Manjyot Kaur Gill (NEU-002662913)\n",
        "####            Rishikesh balaji Muthukumar (NEU-002635243)\n",
        "####            Rohana Survase (NEU-002619051)\n",
        "#### Presented to: Dr. Chinthaka Pathum Dinesh Herath Gedara\n",
        "#### Date: March 26,2023"
      ]
    },
    {
      "cell_type": "markdown",
      "id": "b2b0d4f2-fd08-4687-8037-bbbff5fde8c1",
      "metadata": {
        "id": "b2b0d4f2-fd08-4687-8037-bbbff5fde8c1"
      },
      "source": [
        "### Objective\n",
        "##### The \"Age\" and \"Balance\" variables in the bank churn dataset will be subject to one-sample and two-sample t-tests in this analysis. The goal is to determine what causes customers to leave and provide knowledge and advice for the bank's customer retention strategy."
      ]
    },
    {
      "cell_type": "markdown",
      "id": "fb412c77-681d-4071-9290-d367267e3db3",
      "metadata": {
        "id": "fb412c77-681d-4071-9290-d367267e3db3"
      },
      "source": [
        "### Variables Description:\n",
        "##### RowNumber: A unique identifier for each record in the dataset.\n",
        "##### CustomerId: A unique identifier for each customer in the bank.\n",
        "##### Surname: The last name of the customer.\n",
        "##### CreditScore: a number that represents a customer's creditworthiness or credit eligibility.\n",
        "##### Geography: The dataset has three alternative values for the customer's country of residence(Spain, Germany and France)\n",
        "##### Gender: the customer's gender, which may be either male or female.\n",
        "##### Age: The age of the customer in years.\n",
        "##### Tenure: The number of years that the customer has been a client of the bank.\n",
        "##### Balance: The total amount of money that a client has in their bank account.\n",
        "##### NumOfProducts: The amount of products a customer utilises or has with the bank.\n",
        "##### HasCrCard: the presence or absence of the customer's credit card with the bank; a value of 1 denotes the presence of a credit card.\n",
        "##### IsActiveMember: If the client is a current, active member of the bank.\n",
        "##### EstimatedSalary: The estimated yearly salary of the customer.\n",
        "##### Exited: A binary variable with a value of 1 indicating that the customer has churned or left the bank, and a value of 0 indicating that they have not churned."
      ]
    },
    {
      "cell_type": "markdown",
      "id": "44905613-1bb7-443b-b1ad-1fdb4e522649",
      "metadata": {
        "id": "44905613-1bb7-443b-b1ad-1fdb4e522649"
      },
      "source": [
        "### Importing required packages"
      ]
    },
    {
      "cell_type": "code",
      "execution_count": null,
      "id": "e280467c-c870-417a-8af4-96c49ba94764",
      "metadata": {
        "id": "e280467c-c870-417a-8af4-96c49ba94764",
        "outputId": "0b6266ab-1562-4ff3-a253-ca4f123ab4f3"
      },
      "outputs": [
        {
          "name": "stdout",
          "output_type": "stream",
          "text": [
            "\n",
            "  There is a binary version available but the source version is later:\n",
            "       binary source needs_compilation\n",
            "gplots  3.1.1  3.1.3             FALSE\n",
            "\n"
          ]
        },
        {
          "name": "stderr",
          "output_type": "stream",
          "text": [
            "installing the source package 'gplots'\n",
            "\n",
            "also installing the dependencies 'cli', 'lifecycle', 'pillar', 'rlang', 'tibble', 'tidyselect', 'vctrs'\n",
            "\n"
          ]
        },
        {
          "name": "stdout",
          "output_type": "stream",
          "text": [
            "\n",
            "  There are binary versions available but the source versions are later:\n",
            "           binary source needs_compilation\n",
            "cli         2.5.0  3.6.1              TRUE\n",
            "lifecycle   1.0.0  1.0.3             FALSE\n",
            "pillar      1.6.0  1.9.0             FALSE\n",
            "rlang      0.4.11  1.1.0              TRUE\n",
            "tibble      3.1.1  3.2.1              TRUE\n",
            "tidyselect  1.1.1  1.2.0             FALSE\n",
            "vctrs       0.3.8  0.6.1              TRUE\n",
            "dplyr       1.0.6  1.1.1              TRUE\n",
            "\n",
            "  Binaries will be installed\n",
            "package 'cli' successfully unpacked and MD5 sums checked\n",
            "package 'rlang' successfully unpacked and MD5 sums checked\n",
            "package 'tibble' successfully unpacked and MD5 sums checked\n",
            "package 'vctrs' successfully unpacked and MD5 sums checked\n",
            "package 'dplyr' successfully unpacked and MD5 sums checked\n",
            "\n",
            "The downloaded binary packages are in\n",
            "\tC:\\Users\\krish\\AppData\\Local\\Temp\\Rtmp0YNhdj\\downloaded_packages\n"
          ]
        },
        {
          "name": "stderr",
          "output_type": "stream",
          "text": [
            "installing the source packages 'lifecycle', 'pillar', 'tidyselect'\n",
            "\n",
            "Warning message in install.packages(\"dplyr\"):\n",
            "\"installation of package 'lifecycle' had non-zero exit status\"Warning message in install.packages(\"dplyr\"):\n",
            "\"installation of package 'pillar' had non-zero exit status\"Warning message in install.packages(\"dplyr\"):\n",
            "\"installation of package 'tidyselect' had non-zero exit status\"\n",
            "Attaching package: 'gplots'\n",
            "\n",
            "The following object is masked from 'package:stats':\n",
            "\n",
            "    lowess\n",
            "\n"
          ]
        },
        {
          "name": "stdout",
          "output_type": "stream",
          "text": [
            "\n",
            "  There is a binary version available but the source version is later:\n",
            "        binary source needs_compilation\n",
            "moments   0.14 0.14.1             FALSE\n",
            "\n"
          ]
        },
        {
          "name": "stderr",
          "output_type": "stream",
          "text": [
            "installing the source package 'moments'\n",
            "\n",
            "Warning message:\n",
            "\"package 'dplyr' was built under R version 3.6.3\""
          ]
        },
        {
          "ename": "ERROR",
          "evalue": "Error: package or namespace load failed for 'dplyr' in loadNamespace(j <- i[[1L]], c(lib.loc, .libPaths()), versionCheck = vI[[j]]):\n there is no package called 'lifecycle'\n",
          "output_type": "error",
          "traceback": [
            "Error: package or namespace load failed for 'dplyr' in loadNamespace(j <- i[[1L]], c(lib.loc, .libPaths()), versionCheck = vI[[j]]):\n there is no package called 'lifecycle'\nTraceback:\n",
            "1. library(dplyr)",
            "2. tryCatch({\n .     attr(package, \"LibPath\") <- which.lib.loc\n .     ns <- loadNamespace(package, lib.loc)\n .     env <- attachNamespace(ns, pos = pos, deps, exclude, include.only)\n . }, error = function(e) {\n .     P <- if (!is.null(cc <- conditionCall(e))) \n .         paste(\" in\", deparse(cc)[1L])\n .     else \"\"\n .     msg <- gettextf(\"package or namespace load failed for %s%s:\\n %s\", \n .         sQuote(package), P, conditionMessage(e))\n .     if (logical.return) \n .         message(paste(\"Error:\", msg), domain = NA)\n .     else stop(msg, call. = FALSE, domain = NA)\n . })",
            "3. tryCatchList(expr, classes, parentenv, handlers)",
            "4. tryCatchOne(expr, names, parentenv, handlers[[1L]])",
            "5. value[[3L]](cond)",
            "6. stop(msg, call. = FALSE, domain = NA)"
          ]
        }
      ],
      "source": [
        "install.packages(\"gplots\")\n",
        "install.packages(\"dplyr\")\n",
        "\n",
        "library(gplots)\n",
        "\n",
        "install.packages(\"moments\")\n",
        "library(moments)\n",
        "\n",
        "library(dplyr)\n",
        "library(ggplot2)\n",
        "library(tidyr)"
      ]
    },
    {
      "cell_type": "markdown",
      "id": "80f65c0b-673f-4745-85ed-189f6c61b63f",
      "metadata": {
        "id": "80f65c0b-673f-4745-85ed-189f6c61b63f"
      },
      "source": [
        "### Reading the dataset"
      ]
    },
    {
      "cell_type": "code",
      "execution_count": null,
      "id": "3cd5fb8e-478b-47b7-a94a-59870603f24f",
      "metadata": {
        "id": "3cd5fb8e-478b-47b7-a94a-59870603f24f"
      },
      "outputs": [],
      "source": [
        "bank_churn <- read.csv(\"Churn Modeling.csv\", header = TRUE, sep = \",\")"
      ]
    },
    {
      "cell_type": "markdown",
      "id": "82023fea-c055-4f5a-a7f2-4d1911c7eba0",
      "metadata": {
        "id": "82023fea-c055-4f5a-a7f2-4d1911c7eba0"
      },
      "source": [
        "### Descriptive Statistics"
      ]
    },
    {
      "cell_type": "code",
      "execution_count": null,
      "id": "9c7a1281-cd2f-4325-be86-070b4595edf5",
      "metadata": {
        "id": "9c7a1281-cd2f-4325-be86-070b4595edf5",
        "outputId": "66f12af6-8cdd-4820-8990-ec4895d584da"
      },
      "outputs": [
        {
          "data": {
            "text/plain": [
              "   RowNumber       CustomerId           Surname      CreditScore   \n",
              " Min.   :    1   Min.   :15565701   Smith   :  32   Min.   :350.0  \n",
              " 1st Qu.: 2501   1st Qu.:15628528   Martin  :  29   1st Qu.:584.0  \n",
              " Median : 5000   Median :15690738   Scott   :  29   Median :652.0  \n",
              " Mean   : 5000   Mean   :15690941   Walker  :  28   Mean   :650.5  \n",
              " 3rd Qu.: 7500   3rd Qu.:15753234   Brown   :  26   3rd Qu.:718.0  \n",
              " Max.   :10000   Max.   :15815690   Genovese:  25   Max.   :850.0  \n",
              "                                    (Other) :9831                  \n",
              "   Geography       Gender          Age            Tenure          Balance      \n",
              " France :5014   Female:4543   Min.   :18.00   Min.   : 0.000   Min.   :     0  \n",
              " Germany:2509   Male  :5457   1st Qu.:32.00   1st Qu.: 3.000   1st Qu.:     0  \n",
              " Spain  :2477                 Median :37.00   Median : 5.000   Median : 97199  \n",
              "                              Mean   :38.92   Mean   : 5.013   Mean   : 76486  \n",
              "                              3rd Qu.:44.00   3rd Qu.: 7.000   3rd Qu.:127644  \n",
              "                              Max.   :92.00   Max.   :10.000   Max.   :250898  \n",
              "                                                                               \n",
              " NumOfProducts    HasCrCard      IsActiveMember   EstimatedSalary    \n",
              " Min.   :1.00   Min.   :0.0000   Min.   :0.0000   Min.   :    11.58  \n",
              " 1st Qu.:1.00   1st Qu.:0.0000   1st Qu.:0.0000   1st Qu.: 51002.11  \n",
              " Median :1.00   Median :1.0000   Median :1.0000   Median :100193.91  \n",
              " Mean   :1.53   Mean   :0.7055   Mean   :0.5151   Mean   :100090.24  \n",
              " 3rd Qu.:2.00   3rd Qu.:1.0000   3rd Qu.:1.0000   3rd Qu.:149388.25  \n",
              " Max.   :4.00   Max.   :1.0000   Max.   :1.0000   Max.   :199992.48  \n",
              "                                                                     \n",
              "     Exited      \n",
              " Min.   :0.0000  \n",
              " 1st Qu.:0.0000  \n",
              " Median :0.0000  \n",
              " Mean   :0.2037  \n",
              " 3rd Qu.:0.0000  \n",
              " Max.   :1.0000  \n",
              "                 "
            ]
          },
          "metadata": {},
          "output_type": "display_data"
        }
      ],
      "source": [
        "summary(bank_churn)"
      ]
    },
    {
      "cell_type": "markdown",
      "id": "b65f9517-6d1e-43bb-ae17-f8149b6bff4a",
      "metadata": {
        "id": "b65f9517-6d1e-43bb-ae17-f8149b6bff4a"
      },
      "source": [
        "### Creating Sample"
      ]
    },
    {
      "cell_type": "code",
      "execution_count": null,
      "id": "05137aec-6ca1-4ed2-9439-02661ec2cebd",
      "metadata": {
        "id": "05137aec-6ca1-4ed2-9439-02661ec2cebd"
      },
      "outputs": [],
      "source": [
        "age_exited <- subset(bank_churn, Exited == 1)"
      ]
    },
    {
      "cell_type": "markdown",
      "id": "744d1c9b-e42c-4a47-b707-c09d736f5ca2",
      "metadata": {
        "id": "744d1c9b-e42c-4a47-b707-c09d736f5ca2"
      },
      "source": [
        "### Descriptive statistics of the sample"
      ]
    },
    {
      "cell_type": "code",
      "execution_count": null,
      "id": "ffaf946f-8476-40cf-9b28-9cda07547c2f",
      "metadata": {
        "id": "ffaf946f-8476-40cf-9b28-9cda07547c2f",
        "outputId": "e9d06500-74a8-4b71-f7fd-d0eae78b5548"
      },
      "outputs": [
        {
          "data": {
            "text/plain": [
              "   RowNumber      CustomerId           Surname      CreditScore   \n",
              " Min.   :   1   Min.   :15565706   Lin     :   9   Min.   :350.0  \n",
              " 1st Qu.:2419   1st Qu.:15627360   Martin  :   9   1st Qu.:578.0  \n",
              " Median :4871   Median :15688963   McGregor:   9   Median :646.0  \n",
              " Mean   :4906   Mean   :15690052   Smith   :   9   Mean   :645.4  \n",
              " 3rd Qu.:7404   3rd Qu.:15753092   Cocci   :   7   3rd Qu.:716.0  \n",
              " Max.   :9999   Max.   :15815656   Lo      :   7   Max.   :850.0  \n",
              "                                   (Other) :1987                  \n",
              "   Geography      Gender          Age            Tenure          Balance      \n",
              " France :810   Female:1139   Min.   :18.00   Min.   : 0.000   Min.   :     0  \n",
              " Germany:814   Male  : 898   1st Qu.:38.00   1st Qu.: 2.000   1st Qu.: 38340  \n",
              " Spain  :413                 Median :45.00   Median : 5.000   Median :109349  \n",
              "                             Mean   :44.84   Mean   : 4.933   Mean   : 91109  \n",
              "                             3rd Qu.:51.00   3rd Qu.: 8.000   3rd Qu.:131433  \n",
              "                             Max.   :84.00   Max.   :10.000   Max.   :250898  \n",
              "                                                                              \n",
              " NumOfProducts     HasCrCard      IsActiveMember   EstimatedSalary    \n",
              " Min.   :1.000   Min.   :0.0000   Min.   :0.0000   Min.   :    11.58  \n",
              " 1st Qu.:1.000   1st Qu.:0.0000   1st Qu.:0.0000   1st Qu.: 51907.72  \n",
              " Median :1.000   Median :1.0000   Median :0.0000   Median :102460.84  \n",
              " Mean   :1.475   Mean   :0.6991   Mean   :0.3608   Mean   :101465.68  \n",
              " 3rd Qu.:2.000   3rd Qu.:1.0000   3rd Qu.:1.0000   3rd Qu.:152422.91  \n",
              " Max.   :4.000   Max.   :1.0000   Max.   :1.0000   Max.   :199808.10  \n",
              "                                                                      \n",
              "     Exited \n",
              " Min.   :1  \n",
              " 1st Qu.:1  \n",
              " Median :1  \n",
              " Mean   :1  \n",
              " 3rd Qu.:1  \n",
              " Max.   :1  \n",
              "            "
            ]
          },
          "metadata": {},
          "output_type": "display_data"
        }
      ],
      "source": [
        "summary(age_exited)"
      ]
    },
    {
      "cell_type": "markdown",
      "id": "b7f081cf-abd9-441d-bdf9-fdfe8f2f1402",
      "metadata": {
        "id": "b7f081cf-abd9-441d-bdf9-fdfe8f2f1402"
      },
      "source": [
        "# T-test for Age of exited customers"
      ]
    },
    {
      "cell_type": "markdown",
      "id": "4ed2126b-825d-4ee2-8662-df86a63f1e2e",
      "metadata": {
        "id": "4ed2126b-825d-4ee2-8662-df86a63f1e2e"
      },
      "source": [
        "### Analyzing the distribution of \"Age\" variable"
      ]
    },
    {
      "cell_type": "code",
      "execution_count": null,
      "id": "aaec97f0-e9da-4a3a-9956-2f0368400b89",
      "metadata": {
        "id": "aaec97f0-e9da-4a3a-9956-2f0368400b89",
        "outputId": "e3ffbfdd-9765-441b-c853-7a9921eb4a55"
      },
      "outputs": [
        {
          "data": {
            "image/png": "[encoded data removed]",
            "text/plain": [
              "Plot with title \"Age of Exited customers\""
            ]
          },
          "metadata": {},
          "output_type": "display_data"
        }
      ],
      "source": [
        "options(repr.plot.width=16, repr.plot.height=9)\n",
        "par(mfrow=c(1,3))\n",
        "\n",
        "exited_age_hist <- hist(age_exited$Age,\n",
        "                 ylim=c(0,400),\n",
        "                 xlim = c(0,100),\n",
        "                 xlab = \"Age\",\n",
        "                 col = \"red\",\n",
        "                 main = \"Distribution of age of exited customers\")\n",
        "text(exited_age_hist$mids,exited_age_hist$counts,labels=exited_age_hist$counts, adj=c(0.5, -0.5))\n",
        "\n",
        "qqnorm(age_exited$Age,\n",
        "       main = \"Normal Q-Q Plot for Age of Exited customers\",\n",
        "      col = c(\"red\"))\n",
        "qqline(age_exited$Age)\n",
        "\n",
        "boxplot(age_exited$Age,  \n",
        "        col = c(\"red\"), \n",
        "        main = \"Age of Exited customers\")"
      ]
    },
    {
      "cell_type": "code",
      "execution_count": null,
      "id": "97927395-6e02-4f43-87fb-185868ee0227",
      "metadata": {
        "id": "97927395-6e02-4f43-87fb-185868ee0227",
        "outputId": "c7209711-235c-4f9a-a35c-4a4170788dc6"
      },
      "outputs": [
        {
          "name": "stdout",
          "output_type": "stream",
          "text": [
            "The skewness value of Age of Exited customers is: 0.07792019 \n"
          ]
        }
      ],
      "source": [
        "skew_age_exited <- skewness(age_exited$Age)\n",
        "cat(\"The skewness value of Age of Exited customers is:\", skew_age_exited,\"\\n\")"
      ]
    },
    {
      "cell_type": "markdown",
      "id": "82d3b0ad-eb67-455e-a44e-346e13483244",
      "metadata": {
        "id": "82d3b0ad-eb67-455e-a44e-346e13483244"
      },
      "source": [
        "### Inferences:\n",
        "\n",
        "##### >The t test requires normally distributed data, which ensures the accuracy of the results. \n",
        "##### >The skewness value of Age of Exited customers is: 0.07792019\n",
        "##### >The distribution of the data appears to be approximately symmetric, as indicated by the skewness value of 0.07792019.\n",
        "##### >As per the histogram, the data is most likely symmetrical, which is supported by the skewness score of 0.07792019.\n",
        "##### >Boxplot denotes that there are few outliers for the Age variable of exited customers, but these can not be removed as they are valid data points.\n",
        "##### >The data points fall along a straight line, demonstrating an excellent fit to the normal distribution."
      ]
    },
    {
      "cell_type": "markdown",
      "id": "6a992de9-0e8b-4eda-9953-1762fef0b906",
      "metadata": {
        "id": "6a992de9-0e8b-4eda-9953-1762fef0b906"
      },
      "source": [
        "### Null and alternative hypothesis:\n",
        "\n",
        "### The hypothesized mean is 39"
      ]
    },
    {
      "cell_type": "code",
      "execution_count": null,
      "id": "0af3f26e-9154-4822-a679-29734c6dca07",
      "metadata": {
        "id": "0af3f26e-9154-4822-a679-29734c6dca07"
      },
      "outputs": [],
      "source": []
    },
    {
      "cell_type": "markdown",
      "id": "fddea215-7658-4a31-a344-64f0d0fe3e03",
      "metadata": {
        "id": "fddea215-7658-4a31-a344-64f0d0fe3e03"
      },
      "source": [
        "### Two sided alternative hypothesis:"
      ]
    },
    {
      "cell_type": "code",
      "execution_count": null,
      "id": "ec6430bd-6623-45f8-878a-ce5c57bfcbad",
      "metadata": {
        "id": "ec6430bd-6623-45f8-878a-ce5c57bfcbad",
        "outputId": "7fb1fee1-45b4-40c4-9f90-c7078564b075"
      },
      "outputs": [
        {
          "data": {
            "text/plain": [
              "\n",
              "\tOne Sample t-test\n",
              "\n",
              "data:  age_exited$Age\n",
              "t = 26.992, df = 2036, p-value < 2.2e-16\n",
              "alternative hypothesis: true mean is not equal to 39\n",
              "95 percent confidence interval:\n",
              " 44.41384 45.26216\n",
              "sample estimates:\n",
              "mean of x \n",
              "   44.838 \n"
            ]
          },
          "metadata": {},
          "output_type": "display_data"
        }
      ],
      "source": [
        "two_sided_t_test <- t.test(age_exited$Age,\n",
        "       mu = 39,\n",
        "      alternative = 'two.sided')\n",
        "\n",
        "two_sided_t_test"
      ]
    },
    {
      "cell_type": "markdown",
      "id": "ae658cb0-da1e-4006-a2dc-2e9552855e5a",
      "metadata": {
        "id": "ae658cb0-da1e-4006-a2dc-2e9552855e5a"
      },
      "source": [
        "### Inferences:\n",
        "\n",
        "##### >The null hypothesis states that the mean age of the entire population,which is 39, is similar to the actual average age of the consumers who have left.\n",
        "##### >The alternative hypothesis is that the actual average age of the exiting consumers is not 39.\n",
        "##### >The sample mean differs significantly from the null hypothesis mean of 39, as shown by the t-value of 26.992.\n",
        "##### >The p-value, which is significantly lower than the significance level of 0.05 and equal to 2.2e-16, strongly rejects the null hypothesis.\n",
        "##### >The actual mean age of the consumers who left falls within a 95% confidence interval of 44.41 and 45.26, exclusive of null hypothesis mean of 39.\n",
        "\n",
        "### As a result, we can draw the conclusion that the average age of exited customers differs significantly from the population's mean age of 39."
      ]
    },
    {
      "cell_type": "code",
      "execution_count": null,
      "id": "b7d7e0c7-ed5c-458b-96b3-81dec64b5a69",
      "metadata": {
        "id": "b7d7e0c7-ed5c-458b-96b3-81dec64b5a69"
      },
      "outputs": [],
      "source": [
        "### Analyzing the distribution of \"Age\" variable"
      ]
    },
    {
      "cell_type": "code",
      "execution_count": null,
      "id": "8f75fef0-addc-401f-9ab1-4d984dc29592",
      "metadata": {
        "id": "8f75fef0-addc-401f-9ab1-4d984dc29592",
        "outputId": "20bf794c-db6d-49a9-fb4b-1baa256448a7"
      },
      "outputs": [
        {
          "data": {
            "image/png": "[encoded data removed]",
            "text/plain": [
              "Plot with title \"Balance of Exted customers\""
            ]
          },
          "metadata": {},
          "output_type": "display_data"
        }
      ],
      "source": [
        "options(repr.plot.width=16, repr.plot.height=9)\n",
        "par(mfrow=c(1,3))\n",
        "\n",
        "exited_balance_hist <- hist(age_exited$Balance,\n",
        "                 ylim=c(0,800),\n",
        "                 xlim = c(0,260000),\n",
        "                 xlab = \"Balance\",\n",
        "                 col = \"red\",\n",
        "                 main = \"Distribution of balance of exited customers\")\n",
        "text(exited_balance_hist$mids,exited_balance_hist$counts,labels=exited_balance_hist$counts, adj=c(0.5, -0.5))\n",
        "\n",
        "qqnorm(age_exited$Balance,\n",
        "       main = \"Normal Q-Q Plot for Balance of Exited customers\",\n",
        "      col = c(\"red\"))\n",
        "qqline(age_exited$Balance)\n",
        "\n",
        "boxplot(age_exited$Balance,  \n",
        "        col = c(\"red\"), \n",
        "        main = \"Balance of Exted customers\")"
      ]
    },
    {
      "cell_type": "code",
      "execution_count": null,
      "id": "00109bbf-574f-478f-a639-d4e4c5085b57",
      "metadata": {
        "id": "00109bbf-574f-478f-a639-d4e4c5085b57",
        "outputId": "8aa075f9-62f6-4605-9719-a2a77f7079b9"
      },
      "outputs": [
        {
          "name": "stdout",
          "output_type": "stream",
          "text": [
            "The skewness value of Balance of Exited customers is: -0.5123541 \n"
          ]
        }
      ],
      "source": [
        "skew_balance_exited <- skewness(age_exited$Balance)\n",
        "cat(\"The skewness value of Balance of Exited customers is:\", skew_balance_exited,\"\\n\")"
      ]
    },
    {
      "cell_type": "code",
      "execution_count": null,
      "id": "7de474d6-eb86-448a-bd54-001ccbc5b3a9",
      "metadata": {
        "id": "7de474d6-eb86-448a-bd54-001ccbc5b3a9"
      },
      "outputs": [],
      "source": [
        "### Inferences:\n"
      ]
    },
    {
      "cell_type": "markdown",
      "id": "c58af8f2-c6e4-4133-be9b-d21358cc3f3a",
      "metadata": {
        "id": "c58af8f2-c6e4-4133-be9b-d21358cc3f3a"
      },
      "source": [
        "### Null and alternative hypothesis:\n",
        "\n",
        "### The hypothesized mean is 76486, which is the actual mean of total population"
      ]
    },
    {
      "cell_type": "markdown",
      "id": "2559a9c9-fac6-4384-98bf-bb16affacf62",
      "metadata": {
        "id": "2559a9c9-fac6-4384-98bf-bb16affacf62"
      },
      "source": [
        "### Two sided alternative hypothesis:"
      ]
    },
    {
      "cell_type": "code",
      "execution_count": null,
      "id": "b0e38b85-37bd-4d5b-8850-5ffeb01084ac",
      "metadata": {
        "id": "b0e38b85-37bd-4d5b-8850-5ffeb01084ac",
        "outputId": "f7f340c6-3f7f-4bb7-d33b-fbdc97697479"
      },
      "outputs": [
        {
          "data": {
            "text/plain": [
              "\n",
              "\tOne Sample t-test\n",
              "\n",
              "data:  age_exited$Balance\n",
              "t = 11.308, df = 2036, p-value < 2.2e-16\n",
              "alternative hypothesis: true mean is not equal to 76486\n",
              "95 percent confidence interval:\n",
              " 88572.64 93644.44\n",
              "sample estimates:\n",
              "mean of x \n",
              " 91108.54 \n"
            ]
          },
          "metadata": {},
          "output_type": "display_data"
        }
      ],
      "source": [
        "two_sided_t_test <- t.test(age_exited$Balance,\n",
        "       mu = 76486,\n",
        "      alternative = 'two.sided')\n",
        "\n",
        "two_sided_t_test"
      ]
    },
    {
      "cell_type": "markdown",
      "id": "c16f5639-1a1f-4dda-b0d2-90c1864905a8",
      "metadata": {
        "id": "c16f5639-1a1f-4dda-b0d2-90c1864905a8"
      },
      "source": [
        "### Inferences:\n",
        "\n",
        "##### >A very low p-value of  2.2e-16 from the test indicates that the average account balance of customers who left differs considerably from the population mean.\n",
        "##### >With a T value of 11.308, there is significant evidence that the account balances between the population as a whole and the customers who have left significantly differ.\n",
        "##### >The sample estimate of mean balance of 91,108.54 falls within the 95% confidence interval, and the 95% confidence interval of 88,572.64 to 93,644.44 indicates that it is 95% certain that the true population mean falls within this range.\n",
        "\n",
        "### Customers who left had significantly different account balances than the general population, proving that the difference is genuine and not the result of random variation, based on the test."
      ]
    },
    {
      "cell_type": "code",
      "execution_count": null,
      "id": "8e944298-4d41-430f-96dd-fe99929d05ca",
      "metadata": {
        "id": "8e944298-4d41-430f-96dd-fe99929d05ca"
      },
      "outputs": [],
      "source": [
        "### Two Sample t tests:"
      ]
    },
    {
      "cell_type": "code",
      "execution_count": null,
      "id": "e5e89587-03c1-439f-84fb-94325960bfde",
      "metadata": {
        "id": "e5e89587-03c1-439f-84fb-94325960bfde"
      },
      "outputs": [],
      "source": [
        "age_exited <- subset(bank_churn, Exited == 1)\n",
        "age_non_exited <- subset(bank_churn, Exited == 0)"
      ]
    },
    {
      "cell_type": "code",
      "execution_count": null,
      "id": "ecc00613-71de-4017-9e15-cfe0650b70f8",
      "metadata": {
        "id": "ecc00613-71de-4017-9e15-cfe0650b70f8",
        "outputId": "c8a7d645-1008-40b1-fcaf-4ef2e92dbfad"
      },
      "outputs": [
        {
          "data": {
            "image/png": "[encoded data removed]",
            "text/plain": [
              "Plot with title \"Age of Non-Exited customers\""
            ]
          },
          "metadata": {},
          "output_type": "display_data"
        }
      ],
      "source": [
        "options(repr.plot.width=16, repr.plot.height=12)\n",
        "par(mfrow=c(2,3))\n",
        "\n",
        "exited_age_hist <- hist(age_exited$Age,\n",
        "                 ylim=c(0,400),\n",
        "                 xlim = c(0,100),\n",
        "                 xlab = \"Age\",\n",
        "                 col = \"red\",\n",
        "                 main = \"Distribution of age of exited customers\")\n",
        "text(exited_age_hist$mids,exited_age_hist$counts,labels=exited_age_hist$counts, adj=c(0.5, -0.5))\n",
        "\n",
        "qqnorm(age_exited$Age,\n",
        "       main = \"Normal Q-Q Plot for Age of Exited customers\",\n",
        "      col = c(\"red\"))\n",
        "qqline(age_exited$Age)\n",
        "\n",
        "boxplot(age_exited$Age,  \n",
        "        col = c(\"red\"), \n",
        "        main = \"Age of Exited customers\")\n",
        "\n",
        "non_exited_age_hist <- hist(age_non_exited$Age,\n",
        "                 ylim=c(0,2000),\n",
        "                 xlim = c(0,100),\n",
        "                 xlab = \"Age\",\n",
        "                 col = \"red\",\n",
        "                 main = \"Distribution of age of non-exited customers\")\n",
        "text(non_exited_age_hist$mids,non_exited_age_hist$counts,labels=non_exited_age_hist$counts, adj=c(0.5, -0.5))\n",
        "\n",
        "qqnorm(age_non_exited$Age,\n",
        "       main = \"Normal Q-Q Plot for Age of Non-Exited customers\",\n",
        "      col = c(\"red\"))\n",
        "qqline(age_non_exited$Age)\n",
        "\n",
        "boxplot(age_non_exited$Age,  \n",
        "        col = c(\"red\"), \n",
        "        main = \"Age of Non-Exited customers\")"
      ]
    },
    {
      "cell_type": "code",
      "execution_count": null,
      "id": "b1b9c20b-5bf9-482f-be6a-36f233c61938",
      "metadata": {
        "id": "b1b9c20b-5bf9-482f-be6a-36f233c61938",
        "outputId": "b6a5ab46-af2a-4574-fb53-c83a5ce051f3"
      },
      "outputs": [
        {
          "name": "stdout",
          "output_type": "stream",
          "text": [
            "\n",
            "\tWelch Two Sample t-test\n",
            "\n",
            "data:  age_exited$Age and age_non_exited$Age\n",
            "t = 30.419, df = 3248.1, p-value < 2.2e-16\n",
            "alternative hypothesis: true difference in means is not equal to 0\n",
            "95 percent confidence interval:\n",
            " 6.950727 7.908490\n",
            "sample estimates:\n",
            "mean of x mean of y \n",
            " 44.83800  37.40839 \n",
            "\n"
          ]
        }
      ],
      "source": [
        "two_sample_t_test <- t.test(age_exited$Age, age_non_exited$Age)\n",
        "\n",
        "print(two_sample_t_test)"
      ]
    },
    {
      "cell_type": "markdown",
      "id": "e7ba7a0c-be4c-45ec-aec9-3bb135fa20e0",
      "metadata": {
        "id": "e7ba7a0c-be4c-45ec-aec9-3bb135fa20e0"
      },
      "source": [
        "### Inferences:\n",
        "\n",
        "##### >The p-value is very low ( 2.2e-16), which indicates that there is strong evidence opposing the null hypothesis.\n",
        "\n",
        "##### >The alternative hypothesis suggests that the true difference in means between the groups is not equal to zero.\n",
        "\n",
        "##### >Compared to the non-exited group, which has a mean age of 37.40839, the exited group's sample mean age is greater at 44.83800.\n",
        "\n",
        "##### >Moreover, the range of the 95% confidence interval for the mean difference is 6.950727 to 7.908490.\n",
        "\n",
        "##### >From the results of the Welch Two Sample t-test, it can be concluded that there is a significant difference in mean age between customers who exited and those who did not exit the bank.\n",
        "\n",
        "### These findings suggest that age may be a significant factor in determining program exit, with older individuals more likely to leave the bank."
      ]
    },
    {
      "cell_type": "code",
      "execution_count": null,
      "id": "98371a39-d416-4ff7-8c84-d087c4f0d091",
      "metadata": {
        "id": "98371a39-d416-4ff7-8c84-d087c4f0d091"
      },
      "outputs": [],
      "source": []
    }
  ],
  "metadata": {
    "kernelspec": {
      "display_name": "R",
      "language": "R",
      "name": "ir"
    },
    "language_info": {
      "codemirror_mode": "r",
      "file_extension": ".r",
      "mimetype": "text/x-r-source",
      "name": "R",
      "pygments_lexer": "r",
      "version": "3.6.1"
    },
    "colab": {
      "provenance": []
    }
  },
  "nbformat": 4,
  "nbformat_minor": 5
}